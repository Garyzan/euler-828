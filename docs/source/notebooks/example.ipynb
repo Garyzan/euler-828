{
 "cells": [
  {
   "cell_type": "markdown",
   "metadata": {},
   "source": [
    "# Examples"
   ]
  },
  {
   "cell_type": "markdown",
   "metadata": {},
   "source": [
    "This notebook explains how to use the euler828 package.\n",
    "Problems are represented by the objects of the `Problem` class, which can be created like this:"
   ]
  },
  {
   "cell_type": "code",
   "execution_count": 1,
   "metadata": {},
   "outputs": [],
   "source": [
    "from euler828 import Problem\n",
    "\n",
    "# The target number should be a single integer, while the possible operands of\n",
    "# your problem should be provided as a list of integers\n",
    "\n",
    "target = 10\n",
    "operands = [1, 2, 5, 9]\n",
    "\n",
    "problem = Problem(target, operands)"
   ]
  },
  {
   "cell_type": "markdown",
   "metadata": {},
   "source": [
    "When you have defined your Problem, you can solve for the lowest possible score using `solve()`.\n",
    "\n",
    "It will return the lowest score (defined as the sum of operands of a correct equation) and a list containing all correct equations that have this lowest score:"
   ]
  },
  {
   "cell_type": "code",
   "execution_count": 2,
   "metadata": {},
   "outputs": [
    {
     "name": "stdout",
     "output_type": "stream",
     "text": [
      "7\n",
      "7\n"
     ]
    }
   ],
   "source": [
    "from euler828.solver import solve\n",
    "score, expressions = solve(problem)\n",
    "print(score)\n",
    "\n",
    "# You can also provide `solve` with the target and operands directly, you will need to use keywords for that however\n",
    "score, expressions = solve(target=target, operands=operands)\n",
    "print(score)"
   ]
  },
  {
   "cell_type": "markdown",
   "metadata": {},
   "source": [
    "To evaluate an expression for yourself, you need to simply call it's `evaluate()` method:"
   ]
  },
  {
   "cell_type": "code",
   "execution_count": 3,
   "metadata": {},
   "outputs": [
    {
     "name": "stdout",
     "output_type": "stream",
     "text": [
      "10\n"
     ]
    }
   ],
   "source": [
    "print(expressions[0].evaluate())"
   ]
  },
  {
   "cell_type": "markdown",
   "metadata": {},
   "source": [
    "Finally, you can get an overview over all possible scores and solutions to a problem by calling `plot_all_solutions()`.\n",
    "\n",
    "It will return a dictionary showing all possible scores and the amount of times they occur as well as a scatterplot visualising this data."
   ]
  },
  {
   "cell_type": "code",
   "execution_count": 4,
   "metadata": {},
   "outputs": [
    {
     "name": "stdout",
     "output_type": "stream",
     "text": [
      "{0: 2536256, 8: 4, 9: 6, 15: 62, 14: 34, 12: 8, 11: 14, 17: 70, 13: 40, 20: 1075, 19: 68, 18: 12, 21: 4, 16: 651, 22: 409, 23: 757, 24: 903, 25: 36145}\n"
     ]
    },
    {
     "data": {
      "image/png": "[encoded data removed]",
      "text/plain": [
       "<Figure size 640x480 with 1 Axes>"
      ]
     },
     "metadata": {},
     "output_type": "display_data"
    }
   ],
   "source": [
    "from euler828.solver import plot_all_solutions\n",
    "\n",
    "problem = Problem(15, [1,2,3,5,5,9])\n",
    "scores, ax = plot_all_solutions(problem)\n",
    "print(scores)"
   ]
  }
 ],
 "metadata": {
  "kernelspec": {
   "display_name": "base",
   "language": "python",
   "name": "python3"
  },
  "language_info": {
   "codemirror_mode": {
    "name": "ipython",
    "version": 3
   },
   "file_extension": ".py",
   "mimetype": "text/x-python",
   "name": "python",
   "nbconvert_exporter": "python",
   "pygments_lexer": "ipython3",
   "version": "3.10.14"
  }
 },
 "nbformat": 4,
 "nbformat_minor": 2
}
