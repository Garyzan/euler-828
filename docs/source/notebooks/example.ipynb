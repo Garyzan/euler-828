{
 "cells": [
  {
   "cell_type": "markdown",
   "metadata": {},
   "source": [
    "# Examples"
   ]
  },
  {
   "cell_type": "code",
   "execution_count": 1,
   "metadata": {},
   "outputs": [
    {
     "name": "stdout",
     "output_type": "stream",
     "text": [
      "Problem 1: 211:2,3,4,6,7,25\n",
      "Score: 40, # of unique solutions: 2\n",
      "\n",
      "Problem 2: 321:3,7,8,10,10,100\n",
      "Score: 30, # of unique solutions: 1\n",
      "\n",
      "Problem 3: 197:1,3,6,9,50,75\n",
      "Score: 69, # of unique solutions: 10\n",
      "\n"
     ]
    }
   ],
   "source": [
    "# solve example problem from the Project Euler website\n",
    "\n",
    "import euler828\n",
    "\n",
    "problem_strings = [\n",
    "    \"211:2,3,4,6,7,25\",\n",
    "    \"321:3,7,8,10,10,100\",\n",
    "    \"197:1,3,6,9,50,75\",\n",
    "]\n",
    "\n",
    "problems = [euler828.parse_problem(problem) for problem in problem_strings]\n",
    "\n",
    "results = [euler828.solve(problem) for problem in problems]\n",
    "\n",
    "for idx, (problem, (score, solutions)) in enumerate(zip(problems, results)):\n",
    "    print(f\"Problem {idx+1}: {problem}\\nScore: {score}, # of unique solutions: {len(solutions)}\\n\")"
   ]
  },
  {
   "cell_type": "code",
   "execution_count": 2,
   "metadata": {},
   "outputs": [
    {
     "ename": "AttributeError",
     "evalue": "'dict' object has no attribute 'append'",
     "output_type": "error",
     "traceback": [
      "\u001b[1;31m---------------------------------------------------------------------------\u001b[0m",
      "\u001b[1;31mAttributeError\u001b[0m                            Traceback (most recent call last)",
      "Cell \u001b[1;32mIn[2], line 1\u001b[0m\n\u001b[1;32m----> 1\u001b[0m scores \u001b[38;5;241m=\u001b[39m \u001b[43meuler828\u001b[49m\u001b[38;5;241;43m.\u001b[39;49m\u001b[43mplot_all_solutions\u001b[49m\u001b[43m(\u001b[49m\u001b[43mproblems\u001b[49m\u001b[43m[\u001b[49m\u001b[38;5;241;43m0\u001b[39;49m\u001b[43m]\u001b[49m\u001b[43m)\u001b[49m\n\u001b[0;32m      2\u001b[0m \u001b[38;5;28mprint\u001b[39m(\u001b[38;5;28mlen\u001b[39m(scores))\n",
      "File \u001b[1;32mc:\\Users\\Garyzan\\miniconda3\\envs\\t1\\lib\\site-packages\\euler828\\solver.py:185\u001b[0m, in \u001b[0;36mplot_all_solutions\u001b[1;34m(problem, target, operands)\u001b[0m\n\u001b[0;32m    183\u001b[0m \u001b[38;5;28;01mif\u001b[39;00m expr\u001b[38;5;241m.\u001b[39mevaluate() \u001b[38;5;241m==\u001b[39m problem\u001b[38;5;241m.\u001b[39mtarget:\n\u001b[0;32m    184\u001b[0m     t_score \u001b[38;5;241m=\u001b[39m expr\u001b[38;5;241m.\u001b[39mscore\n\u001b[1;32m--> 185\u001b[0m     \u001b[43mscores\u001b[49m\u001b[38;5;241;43m.\u001b[39;49m\u001b[43mappend\u001b[49m(expr\u001b[38;5;241m.\u001b[39mscore)\n\u001b[0;32m    186\u001b[0m \u001b[38;5;28;01melse\u001b[39;00m:\n\u001b[0;32m    187\u001b[0m     t_score \u001b[38;5;241m=\u001b[39m \u001b[38;5;241m0\u001b[39m\n",
      "\u001b[1;31mAttributeError\u001b[0m: 'dict' object has no attribute 'append'"
     ]
    }
   ],
   "source": [
    "scores = euler828.plot_all_solutions(problems[0])\n",
    "print(len(scores))"
   ]
  },
  {
   "cell_type": "code",
   "execution_count": null,
   "metadata": {},
   "outputs": [],
   "source": [
    "import numpy as np\n",
    "\n",
    "counts = np.bincount(scores)\n",
    "print(counts)"
   ]
  }
 ],
 "metadata": {
  "kernelspec": {
   "display_name": "base",
   "language": "python",
   "name": "python3"
  },
  "language_info": {
   "codemirror_mode": {
    "name": "ipython",
    "version": 3
   },
   "file_extension": ".py",
   "mimetype": "text/x-python",
   "name": "python",
   "nbconvert_exporter": "python",
   "pygments_lexer": "ipython3",
   "version": "3.10.14"
  }
 },
 "nbformat": 4,
 "nbformat_minor": 2
}
